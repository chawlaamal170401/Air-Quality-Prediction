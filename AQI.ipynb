{
 "cells": [
  {
   "cell_type": "code",
   "execution_count": 1,
   "id": "520033c3",
   "metadata": {},
   "outputs": [],
   "source": [
    "import os\n",
    "import time\n",
    "import requests\n",
    "import sys"
   ]
  },
  {
   "cell_type": "code",
   "execution_count": 2,
   "id": "ae6bcb3c",
   "metadata": {},
   "outputs": [],
   "source": [
    "def retrieve_html():\n",
    "    for year in range(2013, 2022):\n",
    "        for month in range(1, 13):\n",
    "            if(month < 10):\n",
    "                url = \"https://en.tutiempo.net/climate/0{}-{}/ws-421810.html\".format(\n",
    "                    month, year)\n",
    "            else:\n",
    "                url = \"https://en.tutiempo.net/climate/{}-{}/ws-421810.html\".format(\n",
    "                    month, year)\n",
    "\n",
    "        texts = requests.get(url)\n",
    "        text_utf = texts.text.encode('utf-8')\n",
    "\n",
    "        if not os.path.exists(\"Data/Html_Data/{}\".format(year)):\n",
    "            os.makedirs(\"Data/Html_Data/{}\".format(year))\n",
    "        with open(\"Data/Html_Data/{}/{}.html\".format(year, month), \"wb\") as output:\n",
    "            output.write(text_utf)\n",
    "\n",
    "        sys.stdout.flush()"
   ]
  },
  {
   "cell_type": "code",
   "execution_count": 3,
   "id": "da3aeecd",
   "metadata": {},
   "outputs": [
    {
     "name": "stdout",
     "output_type": "stream",
     "text": [
      "Time taken 11.904477834701538\n"
     ]
    }
   ],
   "source": [
    "if __name__ == \"__main__\":\n",
    "    start_time = time.time()\n",
    "    retrieve_html()\n",
    "    stop_time = time.time()\n",
    "    print(\"Time taken {}\".format(stop_time - start_time))"
   ]
  },
  {
   "cell_type": "code",
   "execution_count": null,
   "id": "19624ed9",
   "metadata": {},
   "outputs": [],
   "source": []
  }
 ],
 "metadata": {
  "kernelspec": {
   "display_name": "Python 3",
   "language": "python",
   "name": "python3"
  },
  "language_info": {
   "codemirror_mode": {
    "name": "ipython",
    "version": 3
   },
   "file_extension": ".py",
   "mimetype": "text/x-python",
   "name": "python",
   "nbconvert_exporter": "python",
   "pygments_lexer": "ipython3",
   "version": "3.8.8"
  }
 },
 "nbformat": 4,
 "nbformat_minor": 5
}
